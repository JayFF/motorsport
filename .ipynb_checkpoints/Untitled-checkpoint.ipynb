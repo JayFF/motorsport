{
 "cells": [
  {
   "cell_type": "code",
   "execution_count": 64,
   "metadata": {
    "collapsed": false
   },
   "outputs": [
    {
     "data": {
      "image/png": "[encoded data removed]",
      "text/plain": [
       "<matplotlib.figure.Figure at 0x165e6f59b70>"
      ]
     },
     "metadata": {},
     "output_type": "display_data"
    }
   ],
   "source": [
    "import matplotlib.pyplot as plt\n",
    "import numpy as np\n",
    "import matplotlib.mlab as mlab\n",
    "import math\n",
    "import random\n",
    "from scipy.stats import truncnorm\n",
    "\n",
    "def gaussian(arg ,mu, sigma):\n",
    "    return (1/(sigma * np.sqrt(2 * np.pi)) * np.exp( - (arg - mu)**2 / (2 * sigma**2) ))\n",
    "\n",
    "def draw_grades(n, mu, sigma, lowest=1, highest=10):\n",
    "    max_value = gaussian(mu, mu, sigma)\n",
    "    random_grade = -1\n",
    "    grades = []\n",
    "    while len(grades) < n:\n",
    "        random_grade = random.randint(lowest,highest)\n",
    "        if random.random() < gaussian(random_grade, mu, sigma)/max_value:\n",
    "            grades.append(random_grade)\n",
    "        \n",
    "    return(grades)\n",
    "\n",
    "mu, sigma = 3 , 1 # mean and standard deviation\n",
    "lowest = 1\n",
    "highest = 6\n",
    "grades = draw_grades(10000, mu, sigma, lowest, highest)\n",
    "\n",
    "count, bins, ignored = plt.hist(grades, 5, normed=True, align='left')\n",
    "\n",
    "xs = np.arange(lowest, highest, 0.1)\n",
    "\n",
    "plt.plot(xs, 1/(sigma * np.sqrt(2 * np.pi)) * np.exp( - (xs - mu)**2 / (2 * sigma**2) ), linewidth=2, color='r')\n",
    "plt.xlim((lowest-0.5,highest+0.5))\n",
    "plt.show()"
   ]
  },
  {
   "cell_type": "code",
   "execution_count": 5,
   "metadata": {
    "collapsed": false
   },
   "outputs": [
    {
     "data": {
      "text/plain": [
       "<scipy.stats._distn_infrastructure.rv_frozen at 0x165e46a7eb8>"
      ]
     },
     "execution_count": 5,
     "metadata": {},
     "output_type": "execute_result"
    }
   ],
   "source": []
  },
  {
   "cell_type": "code",
   "execution_count": null,
   "metadata": {
    "collapsed": true
   },
   "outputs": [],
   "source": []
  }
 ],
 "metadata": {
  "kernelspec": {
   "display_name": "Python 3",
   "language": "python",
   "name": "python3"
  },
  "language_info": {
   "codemirror_mode": {
    "name": "ipython",
    "version": 3
   },
   "file_extension": ".py",
   "mimetype": "text/x-python",
   "name": "python",
   "nbconvert_exporter": "python",
   "pygments_lexer": "ipython3",
   "version": "3.6.0"
  }
 },
 "nbformat": 4,
 "nbformat_minor": 2
}
